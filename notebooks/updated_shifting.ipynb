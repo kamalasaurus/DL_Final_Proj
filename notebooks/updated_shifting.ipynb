{
 "cells": [
  {
   "cell_type": "code",
   "execution_count": 1,
   "metadata": {},
   "outputs": [],
   "source": [
    "from anotherJEPA3 import TrajectoryDataset\n",
    "import random\n",
    "import torch\n",
    "import PIL\n",
    "import matplotlib.pyplot as plt"
   ]
  },
  {
   "cell_type": "code",
   "execution_count": 110,
   "metadata": {},
   "outputs": [],
   "source": [
    "\n",
    "def shift_augmentation(states, actions):\n",
    "    \"\"\"\n",
    "    Example augmentation function for the TrajectoryDataset.\n",
    "    Args:\n",
    "        states (Tensor): Tensor of shape (T, 2, 64, 64).\n",
    "        actions (Tensor): Tensor of shape (T-1, 2).\n",
    "    \n",
    "    Returns:\n",
    "        Tuple[Tensor, Tensor]: Augmented states and actions.\n",
    "    \"\"\"\n",
    "    # Check for edges of the agent\n",
    "    _, _, width_non_zeros = torch.nonzero((states[:, 0] != 0), as_tuple=True)\n",
    "    width_min = width_non_zeros.min().item()\n",
    "    width_max = width_non_zeros.max().item()\n",
    "\n",
    "    # Check for edges of the walls\n",
    "    wall_non_zeros = torch.nonzero(states[-1, 1, 0, 5:-5] != 0)\n",
    "    wall_min = wall_non_zeros.min().item()+5\n",
    "    wall_max = wall_non_zeros.max().item()+5\n",
    "\n",
    "    wall_pos = int((wall_min+wall_max)/2)\n",
    "\n",
    "\n",
    "    # Identify range of the data (lowest and highest index where it is not empty space)\n",
    "    global_min_all = min(width_min, width_max, wall_min, wall_max)\n",
    "    global_max_all = max(width_min, width_max, wall_min, wall_max)\n",
    "\n",
    "    # Randomly determine shift (without breaking out of the box)\n",
    "    min_shift = 5 - global_min_all\n",
    "    max_shift = 59 - global_max_all\n",
    "    if global_min_all < 5 or global_max_all > 59:\n",
    "        shift = 0\n",
    "    elif min_shift is not max_shift+1 or min_shift is not max_shift:\n",
    "        try:\n",
    "            shift = torch.randint(min_shift, max_shift + 1, size=(1,))\n",
    "        except:\n",
    "            shift = 0\n",
    "    else:\n",
    "        shift = min_shift\n",
    "\n",
    "    if isinstance(shift, torch.Tensor):\n",
    "        shift = shift.item()\n",
    "    print(shift)\n",
    "\n",
    "    # In-place shift for the first channel (primary state)\n",
    "    states[:, 0].copy_(torch.roll(states[:, 0], shifts=shift, dims=2))\n",
    "    \n",
    "    # Special handling for walls (second channel)\n",
    "    # Separate the edges and core\n",
    "    left_edge = states[:, 1, :, 0:5].clone()\n",
    "    right_edge = states[:, 1, :, -5:].clone()\n",
    "    core = states[:, 1, :, 5:-5]\n",
    "    \n",
    "    # In-place shift of the core part\n",
    "    shifted_core = torch.roll(core, shifts=shift, dims=2)\n",
    "    \n",
    "    # Reconstruct the wall channel\n",
    "    states[:, 1, :, 5:-5] = shifted_core\n",
    "    \n",
    "    return states, actions"
   ]
  },
  {
   "cell_type": "code",
   "execution_count": 120,
   "metadata": {},
   "outputs": [
    {
     "name": "stdout",
     "output_type": "stream",
     "text": [
      "-4\n"
     ]
    },
    {
     "data": {
      "text/plain": [
       "<matplotlib.image.AxesImage at 0x7ff9a02b9fa0>"
      ]
     },
     "execution_count": 120,
     "metadata": {},
     "output_type": "execute_result"
    },
    {
     "data": {
      "image/png": "[encoded data removed]",
      "text/plain": [
       "<Figure size 640x480 with 1 Axes>"
      ]
     },
     "metadata": {},
     "output_type": "display_data"
    }
   ],
   "source": [
    "dataset = TrajectoryDataset('../data/states.npy', '../data/actions.npy', augmentations=[shift_augmentation])\n",
    "states, actions = dataset[12]  # This will print \"augmenting\"\n",
    "\n",
    "start = states[0][0]  # Example indexing to get the tensor\n",
    "end = states[-1][0]\n",
    "walls = states[0][1]\n",
    "\n",
    "plt.imshow(start+end+walls)"
   ]
  },
  {
   "cell_type": "code",
   "execution_count": null,
   "metadata": {},
   "outputs": [],
   "source": []
  },
  {
   "cell_type": "code",
   "execution_count": null,
   "metadata": {},
   "outputs": [],
   "source": []
  }
 ],
 "metadata": {
  "kernelspec": {
   "display_name": "dl",
   "language": "python",
   "name": "python3"
  },
  "language_info": {
   "codemirror_mode": {
    "name": "ipython",
    "version": 3
   },
   "file_extension": ".py",
   "mimetype": "text/x-python",
   "name": "python",
   "nbconvert_exporter": "python",
   "pygments_lexer": "ipython3",
   "version": "3.9.19"
  }
 },
 "nbformat": 4,
 "nbformat_minor": 2
}
